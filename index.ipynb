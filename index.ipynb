{
 "cells": [
  {
   "cell_type": "markdown",
   "metadata": {},
   "source": [
    "# Regression with Linear Algebra - Lab\n",
    "\n",
    "## Introduction\n",
    "\n",
    "In this lab, you'll apply regression analysis using simple matrix manipulations to fit a model to given data, and then predict new values for previously unseen data. You'll follow the approach highlighted in previous lesson where you used Numpy to build the appropriate matrices and vectors and solve for the $\\beta$ (unknown variables) vector. The beta vector will be used with test data to make new predictions. You'll also evaluate the model fit.\n",
    "\n",
    "In order to make this experiment interesting, you'll use NumPy at every single stage of this experiment i.e. loading data, creating matrices, performing test train split, model fitting and evaluations.  \n",
    "\n",
    "## Objectives\n",
    "\n",
    "You will be able to:\n",
    "\n",
    "* Use linear algebra to apply simple regression modeling in Python and NumPy only\n",
    "* Apply train/test split using permutations in NumPy\n",
    "* Use matrix algebra with inverses and dot products to calculate the beta\n",
    "* Make predictions from the fitted model using previously unseen input features \n",
    "* Evaluate the fitted model by calculating the error between real and predicted values\n",
    "\n",
    "\n",
    "First let's import necessary libraries "
   ]
  },
  {
   "cell_type": "code",
   "execution_count": 2,
   "metadata": {},
   "outputs": [],
   "source": [
    "import csv # for reading csv file\n",
    "import numpy as np"
   ]
  },
  {
   "cell_type": "markdown",
   "metadata": {},
   "source": [
    "## Dataset \n",
    "\n",
    "The dataset you'll use for this experiment is \"**Sales Prices in the City of Windsor, Canada**\", something very similar to the Boston Housing dataset. This dataset contains a number of input (independent) variables, including area, number of bedrooms/bathrooms, facilities(AC/garage) etc. and an output (dependent) variable, **price**.  You'll formulate a linear algebra problem to find linear mappings from input to out features using the equation provided in the previous lesson. \n",
    "\n",
    "This will allow you to find a relationship between house features and house price for the given data, allowing you to find unknown prices for houses, given the input features.  \n",
    "\n",
    "A description of dataset and included features is available [here](https://rdrr.io/cran/Ecdat/man/Housing.html).\n",
    "\n",
    "In your repository, the dataset is available as `windsor_housing.csv` containing following variables:\n",
    "\n",
    "there are 11 input features (first 11 columns):\n",
    "\n",
    "\tlotsize\tbedrooms  bathrms  stories\tdriveway  recroom\tfullbase  gashw\t airco  garagepl   prefarea\n",
    "\n",
    "and 1 output feature i.e. **price** (12th column). \n",
    "\n",
    "The focus of this lab is not really answering a preset analytical question, but to learn how you can perform a regression experiment, similar to one you performed in statsmodels, using mathematical manipulations. So you won't be using any Pandas or statsmodels goodness here. The key objectives here are to \n",
    "- understand regression with matrix algebra, and \n",
    "- mastery in NumPy scientific computation\n",
    "\n",
    "## Stage 1: Prepare Data for Modeling \n",
    "\n",
    "Let's give you a head start by importing the dataset.You'll perform following steps to get the data ready for analysis:\n",
    "\n",
    "* Initialize an empty list `data` for loading data\n",
    "* Read the csv file containing complete (raw) `windsor_housing.csv`. [Use `csv.reader()` for loading data.](https://docs.python.org/3/library/csv.html). Store this in `data` one row at a time.\n",
    "\n",
    "* Drop the first row of csv file as it contains the names of variables (header) which won't be used during analysis (keeping this will cause errors as it contains text values).\n",
    "\n",
    "* Append a column of all 1s to the data (bias) as the first column\n",
    "\n",
    "* Convert `data` to a Numpy array and inspect first few rows \n",
    "\n",
    "NOTE: `read.csv()` reads the csv as a text file, so you should convert the contents to float."
   ]
  },
  {
   "cell_type": "code",
   "execution_count": null,
   "metadata": {},
   "outputs": [],
   "source": []
  },
  {
   "cell_type": "code",
   "execution_count": 4,
   "metadata": {},
   "outputs": [],
   "source": [
    "# Your Code here\n",
    "f = \"windsor_housing.csv\"\n",
    "fi = open(f)\n",
    "reader = csv.DictReader(fi)\n",
    "data = []\n",
    "#data = reader.readercsv()\n",
    "for row in reader:\n",
    "    data.append([1] + list(row.values()))\n",
    "\n",
    "\n",
    "data = np.array(data)\n",
    "data = data.astype(float)\n",
    "\n",
    "# First 5 rows of raw data \n",
    "\n",
    "# array([[1.00e+00, 5.85e+03, 3.00e+00, 1.00e+00, 2.00e+00, 1.00e+00,\n",
    "#         0.00e+00, 1.00e+00, 0.00e+00, 0.00e+00, 1.00e+00, 0.00e+00,\n",
    "#         4.20e+04],\n",
    "#        [1.00e+00, 4.00e+03, 2.00e+00, 1.00e+00, 1.00e+00, 1.00e+00,\n",
    "#         0.00e+00, 0.00e+00, 0.00e+00, 0.00e+00, 0.00e+00, 0.00e+00,\n",
    "#         3.85e+04],\n",
    "#        [1.00e+00, 3.06e+03, 3.00e+00, 1.00e+00, 1.00e+00, 1.00e+00,\n",
    "#         0.00e+00, 0.00e+00, 0.00e+00, 0.00e+00, 0.00e+00, 0.00e+00,\n",
    "#         4.95e+04],\n",
    "#        [1.00e+00, 6.65e+03, 3.00e+00, 1.00e+00, 2.00e+00, 1.00e+00,\n",
    "#         1.00e+00, 0.00e+00, 0.00e+00, 0.00e+00, 0.00e+00, 0.00e+00,\n",
    "#         6.05e+04],\n",
    "#        [1.00e+00, 6.36e+03, 2.00e+00, 1.00e+00, 1.00e+00, 1.00e+00,\n",
    "#         0.00e+00, 0.00e+00, 0.00e+00, 0.00e+00, 0.00e+00, 0.00e+00,\n",
    "#         6.10e+04]])"
   ]
  },
  {
   "cell_type": "code",
   "execution_count": null,
   "metadata": {},
   "outputs": [],
   "source": []
  },
  {
   "cell_type": "code",
   "execution_count": 6,
   "metadata": {},
   "outputs": [
    {
     "data": {
      "text/plain": [
       "array([[1.00e+00, 5.85e+03, 3.00e+00, ..., 1.00e+00, 0.00e+00, 4.20e+04],\n",
       "       [1.00e+00, 4.00e+03, 2.00e+00, ..., 0.00e+00, 0.00e+00, 3.85e+04],\n",
       "       [1.00e+00, 3.06e+03, 3.00e+00, ..., 0.00e+00, 0.00e+00, 4.95e+04],\n",
       "       ...,\n",
       "       [1.00e+00, 6.00e+03, 3.00e+00, ..., 1.00e+00, 0.00e+00, 1.03e+05],\n",
       "       [1.00e+00, 6.00e+03, 3.00e+00, ..., 1.00e+00, 0.00e+00, 1.05e+05],\n",
       "       [1.00e+00, 6.00e+03, 3.00e+00, ..., 1.00e+00, 0.00e+00, 1.05e+05]])"
      ]
     },
     "execution_count": 6,
     "metadata": {},
     "output_type": "execute_result"
    }
   ],
   "source": [
    "data"
   ]
  },
  {
   "cell_type": "markdown",
   "metadata": {},
   "source": [
    "## Step 2: Perform a 80/20 test train Split\n",
    "\n",
    "Explore NumPy's official documentation to manually split a dataset using `numpy.random.shuffle()`,  `numpy.random.permutations()` or using simple resampling method. \n",
    "* Perform a **random** 80/20 split on data using a method of your choice, in NumPy using one of the methods above\n",
    "* Create x_test, y_test, x_train and y_train arrays from the split data\n",
    "* Inspect the contents to see if the split performed as expected"
   ]
  },
  {
   "cell_type": "code",
   "execution_count": 7,
   "metadata": {},
   "outputs": [
    {
     "data": {
      "text/plain": [
       "546"
      ]
     },
     "execution_count": 7,
     "metadata": {},
     "output_type": "execute_result"
    }
   ],
   "source": [
    "len(data)"
   ]
  },
  {
   "cell_type": "code",
   "execution_count": 32,
   "metadata": {
    "scrolled": true
   },
   "outputs": [],
   "source": [
    "# Your code here\n",
    "indexes = list(range(0,545))\n",
    "np.random.shuffle(indexes)\n",
    "train_index = indexes[0:round(546*.8)]\n",
    "test_index = indexes[round(546*.8):]\n",
    "X = [v[0:-1] for v in data]\n",
    "y = [v[-1] for v in data]\n",
    "\n",
    "# Split results\n",
    "X_train = np.array([X[i] for i in train_index])\n",
    "X_test = np.array([X[i] for i in test_index])\n",
    "y_train = np.array([y[i] for i in train_index])\n",
    "y_test = np.array([y[i] for i in test_index])\n",
    "\n",
    "# Raw data Shape:  (546, 13)\n",
    "# Train/Test Split: (437, 13) (109, 13)\n",
    "# x_train, y_train, x_test, y_test: (437, 12) (437,) (109, 12) (109,)"
   ]
  },
  {
   "cell_type": "code",
   "execution_count": 33,
   "metadata": {},
   "outputs": [
    {
     "data": {
      "text/plain": [
       "array([ 59000.,  44000.,  85000., 190000.,  71000.,  37900.,  86000.,\n",
       "       138300.,  70000.,  54800.,  85000.,  61500.,  56000.,  56000.,\n",
       "        60000.,  76000., 108000.,  66500.,  70000.,  94700., 103000.,\n",
       "        60500.,  64900.,  70000.,  80000.,  68000., 125000.,  70100.,\n",
       "        52000.,  72000.,  40750.,  90000.,  68500.,  74900.,  75000.,\n",
       "       120000.,  90000.,  53000.,  50000.,  38000.,  44700.,  42000.,\n",
       "        96500.,  48000.,  35000.,  52000.,  75000.,  41000.,  45000.,\n",
       "        62000.,  54000., 175000.,  54000., 141000.,  51000.,  66000.,\n",
       "        47000.,  55500.,  50000.,  57000.,  52000.,  85000.,  56000.,\n",
       "        82000.,  64000.,  73000.,  32500.,  92000.,  61000.,  42500.,\n",
       "        40500.,  95000.,  62000.,  61000.,  58000.,  65500.,  66000.,\n",
       "        61000.,  94000.,  59500.,  86900.,  83000.,  82000.,  54000.,\n",
       "        47000.,  59500., 123500., 122000.,  49000.,  58900.,  57500.,\n",
       "        50000.,  25000.,  26000., 100000.,  78000.,  59900.,  83000.,\n",
       "       103500.,  87000.,  38500.,  66000.,  63000.,  50500., 123500.,\n",
       "        92500., 118500.,  82000., 155000.,  44000.,  48000.,  41000.,\n",
       "        84000.,  55000.,  25245.,  38000.,  62500.,  25000., 110000.,\n",
       "        49500.,  73500.,  53000.,  57500.,  77000.,  62900., 102000.,\n",
       "       117000.,  90000.,  58000.,  46000.,  65000.,  58000.,  50000.,\n",
       "        56000.,  52500.,  55000.,  74500.,  82900.,  57500.,  42000.,\n",
       "        43000.,  91500.,  44500.,  86000.,  87250.,  78500.,  63500.,\n",
       "        71900.,  51500.,  67000.,  98500.,  33000., 114900.,  83900.,\n",
       "        58550.,  95000.,  39000.,  43000.,  37000., 140000., 124000.,\n",
       "        96000.,  56000.,  63900.,  65000.,  64000., 130000.,  82000.,\n",
       "       112500.,  90000.,  60000.,  64000.,  50000.,  35000.,  89000.,\n",
       "        57000.,  49500.,  58000.,  47500.,  52000.,  77500.,  60000.,\n",
       "        46000., 113750.,  37000.,  50000.,  84900., 113000.,  48000.,\n",
       "        82500., 145000.,  49900.,  71000.,  48000.,  76900.,  53000.,\n",
       "       120000.,  47000.,  87000.,  35500.,  67000.,  60000.,  55000.,\n",
       "        48500.,  60000.,  78000.,  39000.,  42000.,  72000.,  36000.,\n",
       "        62900.,  42000.,  70000.,  70000.,  60000.,  67000.,  43000.,\n",
       "        38000.,  38000.,  43000.,  45000.,  75000.,  42000.,  54000.,\n",
       "        44000.,  64500.,  30000.,  91700.,  43000.,  42000.,  60000.,\n",
       "        69000.,  42900.,  50000.,  68000.,  98000.,  28000.,  61100.,\n",
       "        52000.,  62000.,  64500.,  49000.,  58500.,  52500., 145000.,\n",
       "        26500.,  45000.,  41000.,  84000.,  32500.,  61700., 122500.,\n",
       "       103000.,  42300.,  63900.,  30500.,  40000.,  37000.,  50000.,\n",
       "        40500.,  45000.,  37900.,  56000.,  30000.,  54000.,  70000.,\n",
       "        70000.,  58500.,  79000.,  60000.,  45000.,  86900.,  51000.,\n",
       "       120900.,  59500.,  43500.,  55000.,  71500.,  74500.,  78000.,\n",
       "       106000.,  66000.,  97000.,  87500.,  38000., 105000.,  69000.,\n",
       "        50000.,  47000.,  61500., 133000.,  45000.,  78900.,  30000.,\n",
       "       106500.,  85000.,  82000.,  60000., 105000.,  74700.,  48500.,\n",
       "        67900.,  61000.,  27000.,  35000.,  44100.,  25000.,  60000.,\n",
       "        50000.,  51500., 106000.,  44500.,  62000.,  51000.,  42000.,\n",
       "        44900.,  95000.,  53900.,  65000.,  78000.,  69000.,  97000.,\n",
       "        67000.,  56000.,  99000.,  49500.,  64000.,  75000.,  44555.,\n",
       "        70500., 106000.,  36000.,  48500., 120000.,  58000.,  52500.,\n",
       "        75000.,  93000.,  37200.,  80000.,  43000.,  99000.,  88500.,\n",
       "        85000.,  49000.,  63000., 116000.,  57000.,  44000.,  69000.,\n",
       "        64500.,  80000.,  67000.,  79500.,  49000.,  49000., 174500.,\n",
       "        70000.,  33500.,  80000.,  75000.,  55500.,  73500.,  44500.,\n",
       "        47000.,  95000.,  59900., 127000.,  68100.,  69900.,  70000.,\n",
       "        51900., 101000.,  75500.,  72500., 114000.,  64900.,  53900.,\n",
       "        73000.,  86000.,  50000.,  50000.,  95500.,  65000.,  46000.,\n",
       "        55000.,  72000.,  50000.,  65000.,  48900., 132000.,  48000.,\n",
       "        62900.,  68000.,  60500.,  31900.,  62600.,  60000.,  82000.,\n",
       "        35000.,  63900.,  57000.,  70800.,  48000.,  45000., 120000.,\n",
       "       105000.,  57250.,  60000., 120000.,  32000.,  89000.,  61000.,\n",
       "        52500.,  54500.,  46000.,  40000.,  80000.,  83900., 112000.,\n",
       "        68500.,  57250.,  53500.,  50000.,  95000.,  64000.,  88500.,\n",
       "       130000., 110000.,  50000.,  73000.,  46200.,  60000.,  52000.,\n",
       "        34400.,  36000.,  70000.])"
      ]
     },
     "execution_count": 33,
     "metadata": {},
     "output_type": "execute_result"
    }
   ],
   "source": [
    "y_train"
   ]
  },
  {
   "cell_type": "markdown",
   "metadata": {},
   "source": [
    "## Step 3: Calculate the `beta` \n",
    "\n",
    "With $X$ and $y$ in place, you can now compute your beta values with $x_\\text{train}$ and $y_\\text{train}$ as:\n",
    "#### $\\beta = (x_\\text{train}^T. x_\\text{train})^{-1} . x_\\text{train}^T . y_\\text{train}$\n",
    "\n",
    "* Using numpy operations (transpose, inverse) that we saw earlier, compute the above equation in steps.\n",
    "* Print your beta values"
   ]
  },
  {
   "cell_type": "code",
   "execution_count": 35,
   "metadata": {},
   "outputs": [
    {
     "data": {
      "text/plain": [
       "array([-6.35101623e+03,  3.08815572e+00,  2.27481414e+03,  1.58198179e+04,\n",
       "        6.72449869e+03,  8.23868448e+03,  3.16974053e+03,  5.98916047e+03,\n",
       "        1.28997531e+04,  1.15380098e+04,  4.65302856e+03,  9.05617912e+03])"
      ]
     },
     "execution_count": 35,
     "metadata": {},
     "output_type": "execute_result"
    }
   ],
   "source": [
    "# Your code here \n",
    "\n",
    "def calculate_slope(X,y):\n",
    "\t\"\"\" Calculate the slope given vectors for X and y \"\"\"\n",
    "\tXt = X.T\n",
    "\tXtX = Xt.dot(X)\n",
    "\tXtX_inv = np.linalg.inv(XtX)\n",
    "\tXty = Xt.dot(y)\n",
    "\tx_hat = XtX_inv.dot(Xty) # the value for b shown above\n",
    "\treturn x_hat\n",
    "beta = calculate_slope(X_train, y_train)\n",
    "beta\n",
    "# Calculated beta values\n",
    "\n",
    "# [-3.07118956e+03  2.13543921e+00  4.04283395e+03  1.33559881e+04\n",
    "#   5.75279185e+03  7.82810082e+03  3.73584043e+03  6.51098935e+03\n",
    "#   1.28802060e+04  1.09853850e+04  6.14947126e+03  1.05813305e+04]"
   ]
  },
  {
   "cell_type": "markdown",
   "metadata": {},
   "source": [
    "## Step 4: Make Predictions\n",
    "Great, you now have a set of coefficients that describe the linear mappings between $X$ and $y$. You can now use the calculated beta values with the test datasets that we left out to calculate $y$ predictions. Next, use all features in turn and multiply it with this beta. The result will give a prediction for each row which you can append to a new array of predictions.\n",
    "\n",
    "$\\hat{y} = x\\beta = \\beta_0 + \\beta_1 x_1 +  \\beta_2 x_2 + \\ldots + \\beta_m x_m $ \n",
    "\n",
    "* Create new empty list (`y_pred`) for saving predictions\n",
    "* For each row of x_test, take the dot product of the row with beta to calculate the prediction for that row\n",
    "* Append the predictions to `y_pred`\n",
    "* Print the new set of predictions"
   ]
  },
  {
   "cell_type": "code",
   "execution_count": 36,
   "metadata": {},
   "outputs": [
    {
     "data": {
      "text/plain": [
       "[54067.81139136279,\n",
       " 43609.05008284796,\n",
       " 72584.02631799574,\n",
       " 75992.30067100353,\n",
       " 56230.06457500346,\n",
       " 56508.58872420966,\n",
       " 41457.76217461243,\n",
       " 110738.25805658076,\n",
       " 63042.98647545174,\n",
       " 64682.2479028826,\n",
       " 63820.38602238627,\n",
       " 63548.6515420316,\n",
       " 41334.23594601094,\n",
       " 46110.790738857075,\n",
       " 47139.96869028111,\n",
       " 51568.81106135788,\n",
       " 91403.53118321148,\n",
       " 59248.89926895545,\n",
       " 54112.606637856436,\n",
       " 41882.42320843128,\n",
       " 93470.27787084322,\n",
       " 112340.97301128626,\n",
       " 114633.98787087828,\n",
       " 45512.63057677238,\n",
       " 71908.35198389168,\n",
       " 83743.87124427523,\n",
       " 101501.2591175689,\n",
       " 91974.7248970015,\n",
       " 97540.53693053052,\n",
       " 76677.52647312898,\n",
       " 39061.353339743466,\n",
       " 58266.20087477879,\n",
       " 40826.85883931657,\n",
       " 57155.89092390624,\n",
       " 104244.52796527321,\n",
       " 57813.29489081171,\n",
       " 31355.763176499146,\n",
       " 59650.3595119103,\n",
       " 34639.62932672931,\n",
       " 93172.82339140362,\n",
       " 100797.22220859693,\n",
       " 66503.79214864,\n",
       " 70050.26199955845,\n",
       " 93198.80812177119,\n",
       " 62684.064731053295,\n",
       " 85267.47624234247,\n",
       " 69690.74621218292,\n",
       " 80399.69307516945,\n",
       " 82130.85440548992,\n",
       " 83594.78358978202,\n",
       " 72595.47420037878,\n",
       " 52760.412091649036,\n",
       " 56320.037197480815,\n",
       " 71798.20166658064,\n",
       " 66098.08712482463,\n",
       " 99510.7836728824,\n",
       " 40833.90084485911,\n",
       " 90548.24731525342,\n",
       " 66389.66653186386,\n",
       " 45812.061732815055,\n",
       " 93604.33113606814,\n",
       " 86944.53748237764,\n",
       " 50652.78543913728,\n",
       " 80120.01128225744,\n",
       " 65205.96695718581,\n",
       " 92764.85726823464,\n",
       " 48404.25091738562,\n",
       " 64959.71429112133,\n",
       " 76677.90594151156,\n",
       " 67603.24549770205,\n",
       " 71030.79106208403,\n",
       " 55238.47565944346,\n",
       " 40001.32769739571,\n",
       " 59277.2521674287,\n",
       " 72895.67679313297,\n",
       " 45302.53443496932,\n",
       " 30130.92198277481,\n",
       " 52949.31630291276,\n",
       " 92052.98577808973,\n",
       " 40250.29329003283,\n",
       " 33548.68826100453,\n",
       " 103595.37650437154,\n",
       " 85800.63599201423,\n",
       " 43187.12937503333,\n",
       " 69916.98373232415,\n",
       " 109710.89810771815,\n",
       " 93154.22149721014,\n",
       " 72301.8441266238,\n",
       " 83083.75574912265,\n",
       " 71555.87515666417,\n",
       " 66039.7690002459,\n",
       " 32879.38056915803,\n",
       " 101969.71382843619,\n",
       " 106365.02562975495,\n",
       " 114343.13168027415,\n",
       " 76864.63381859266,\n",
       " 95282.6095842639,\n",
       " 88333.56548448317,\n",
       " 50210.02254674146,\n",
       " 98873.92096061184,\n",
       " 81078.00556218228,\n",
       " 45624.11130991104,\n",
       " 83724.25315616521,\n",
       " 69408.6426872542,\n",
       " 71716.77773756359,\n",
       " 108910.17142645919,\n",
       " 90265.39167392012,\n",
       " 77665.73630194092]"
      ]
     },
     "execution_count": 36,
     "metadata": {},
     "output_type": "execute_result"
    }
   ],
   "source": [
    "# Your code here \n",
    "y_pred = []\n",
    "for i in X_test:\n",
    "    y_pred.append(np.dot(i, beta))\n",
    "y_pred"
   ]
  },
  {
   "cell_type": "markdown",
   "metadata": {},
   "source": [
    "## Step 5: Evaluate Model \n",
    "\n",
    "### Visualize Actual vs. Predicted values\n",
    "This is exciting, now your model can use the beta value to predict the price of houses given the input features. Let's plot these predictions against the actual values in `y_test` to see how much our model deviates. "
   ]
  },
  {
   "cell_type": "code",
   "execution_count": 1,
   "metadata": {},
   "outputs": [],
   "source": [
    "# Plot predicted and actual values as line plots\n",
    "import matplotlib.pyplot as plt\n",
    "%matplotlib inline\n"
   ]
  },
  {
   "cell_type": "markdown",
   "metadata": {},
   "source": [
    "<img src =\"images/diff.png\" width=\"750\">\n",
    "\n",
    "This doesn't look so bad, does it? Your model, although isn't perfect at this stage, is making a good attempt to predict house prices although a few prediction seem a bit out. There could be a number of reasons for this. Let's try to dig a bit deeper to check model's predictive abilities by comparing these prediction with actual values of `y_test` individually. That will help you calculate the RMSE value (Root Mean Squared Error) for your model. \n",
    "### Root Mean Squared Error\n",
    "Here is the formula for this again. \n",
    "\n",
    "$$ \\large RMSE = \\sqrt{\\sum^N_{i=1}\\dfrac{ (\\text{Predicted}_i-\\text{Actual}_i)^2}{N}}$$\n",
    "\n",
    "* Initialize an empty array `err`\n",
    "* for each row in `y_test` and `y_pred`, take the squared difference and append error for each row in the `err` array\n",
    "* Calculate $RMSE$ from `err` using the formula shown above. "
   ]
  },
  {
   "cell_type": "code",
   "execution_count": 7,
   "metadata": {},
   "outputs": [],
   "source": [
    "# Calculate RMSE\n",
    "\n",
    "# Due to random split, your answers may vary \n",
    "\n",
    "# RMSE = 16401.913562758735"
   ]
  },
  {
   "cell_type": "markdown",
   "metadata": {},
   "source": [
    "### Normalized Root Mean Squared Error\n",
    "The above error is clearly in terms of the dependent variable i.e. the final house price. You can also use a normalized mean squared error in case of multiple regression which can be calculated from RMSE using following formula:\n",
    "\n",
    "* Calculate normalized Root Mean Squared Error\n",
    "\n",
    "\n",
    "$$ \\large NRMSE = \\dfrac{RMSE}{max_i y_i - min_i y_i} $$"
   ]
  },
  {
   "cell_type": "code",
   "execution_count": 11,
   "metadata": {},
   "outputs": [
    {
     "data": {
      "text/plain": [
       "0.09940553674399233"
      ]
     },
     "execution_count": 11,
     "metadata": {},
     "output_type": "execute_result"
    }
   ],
   "source": [
    "# Calculate NRMSE\n",
    "\n",
    "# Due to random split, your answers may vary \n",
    "\n",
    "# 0.09940553674399233"
   ]
  },
  {
   "cell_type": "markdown",
   "metadata": {},
   "source": [
    "There it is. A complete multiple regression analysis using nothing but Numpy. Having good programming skills in numpy allows you to dig deeper into analytical algorithms in machine learning and deep learning. Using matrix multiplication techniques you saw here, you can easily build a whole neural network from scratch. \n",
    "\n",
    "## Level up - Optional \n",
    "\n",
    "* Calculate the R_squared and adjusted R_squared for the above experiment\n",
    "* Plot the residuals (similar to statsmodels) and comment on the variance and heteroscedascticity\n",
    "* Run the experiment in statsmodels and compare the performance of both approaches in terms of computational cost\n",
    "\n",
    "## Summary\n",
    "\n",
    "In this lab, you built a predictive model for predicting house prices. Remember this is a very naive implementation of regression modeling. The purpose here was to get an introduction to the applications of linear algebra into machine learning and predictive analysis. There are still have a number of shortcomings in this modeling approach and you can further apply a number of data modeling techniques to improve this model. "
   ]
  }
 ],
 "metadata": {
  "kernelspec": {
   "display_name": "Python 3",
   "language": "python",
   "name": "python3"
  },
  "language_info": {
   "codemirror_mode": {
    "name": "ipython",
    "version": 3
   },
   "file_extension": ".py",
   "mimetype": "text/x-python",
   "name": "python",
   "nbconvert_exporter": "python",
   "pygments_lexer": "ipython3",
   "version": "3.6.6"
  }
 },
 "nbformat": 4,
 "nbformat_minor": 2
}
